{
 "cells": [
  {
   "cell_type": "code",
   "execution_count": null,
   "metadata": {},
   "outputs": [],
   "source": [
    "from dotenv import load_dotenv\n",
    "import sys\n",
    "import os\n",
    "import json\n",
    "\n",
    "load_dotenv(override=True)\n",
    "try:\n",
    "    del os.environ[\"DEV_PREFIX\"]\n",
    "    del os.environ[\"DEV_ENV\"]\n",
    "except:\n",
    "    pass\n",
    "\n",
    "sys.path.insert(0, os.path.join(os.curdir, \"../chat/src\"))\n",
    "import core.secrets  # noqa"
   ]
  },
  {
   "cell_type": "code",
   "execution_count": null,
   "metadata": {},
   "outputs": [],
   "source": [
    "from IPython.display import display\n",
    "from typing import Any, Dict, Optional\n",
    "from langchain_core.callbacks import BaseCallbackHandler\n",
    "from langchain_core.messages.tool import ToolMessage\n",
    "from langchain_core.outputs import LLMResult\n",
    "\n",
    "\n",
    "class DebugHandler(BaseCallbackHandler):\n",
    "    def on_llm_start(\n",
    "        self,\n",
    "        serialized: dict[str, Any],\n",
    "        prompts: list[str],\n",
    "        metadata: Optional[dict[str, Any]] = None,\n",
    "        **kwargs: Dict[str, Any],\n",
    "    ):\n",
    "        print(\"on_llm_start:\")\n",
    "        display({\"serialized\": serialized, \"metadata\": metadata, \"kwargs\": kwargs})\n",
    "\n",
    "    def on_llm_end(self, response: LLMResult, **kwargs: Dict[str, Any]):\n",
    "        print(\"on_llm_end:\")\n",
    "        display({\"response\": response, \"kwargs\": kwargs})\n",
    "\n",
    "    def on_tool_start(\n",
    "        self, serialized: Dict[str, Any], input_str: str, **kwargs: Dict[str, Any]\n",
    "    ):\n",
    "        print(\"on_tool_start:\")\n",
    "        display({\"serialized\": serialized, \"kwargs\": kwargs})\n",
    "\n",
    "    def on_tool_end(self, output: ToolMessage, **kwargs: Dict[str, Any]):\n",
    "        print(\"on_tool_end:\")\n",
    "        display({\"output\": output, \"kwargs\": kwargs})"
   ]
  },
  {
   "cell_type": "code",
   "execution_count": null,
   "metadata": {},
   "outputs": [],
   "source": [
    "import agent.search_agent\n",
    "from agent.search_agent import SearchAgent\n",
    "from core.setup import chat_model\n",
    "\n",
    "model = chat_model(\n",
    "    model=\"us.anthropic.claude-3-5-sonnet-20241022-v2:0\", streaming=False\n",
    ")\n",
    "agent = SearchAgent(model=model)\n",
    "agent.invoke(\n",
    "    \"What works in the collection pertain to Iranian film?\",\n",
    "    ref=\"abc123\",\n",
    "    callbacks=[DebugHandler()],\n",
    "    forget=True,\n",
    ")"
   ]
  }
 ],
 "metadata": {
  "kernelspec": {
   "display_name": ".venv",
   "language": "python",
   "name": "python3"
  },
  "language_info": {
   "codemirror_mode": {
    "name": "ipython",
    "version": 3
   },
   "file_extension": ".py",
   "mimetype": "text/x-python",
   "name": "python",
   "nbconvert_exporter": "python",
   "pygments_lexer": "ipython3",
   "version": "3.12.2"
  }
 },
 "nbformat": 4,
 "nbformat_minor": 2
}
