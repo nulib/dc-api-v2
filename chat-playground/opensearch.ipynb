{
 "cells": [
  {
   "cell_type": "code",
   "execution_count": null,
   "metadata": {},
   "outputs": [],
   "source": [
    "from dotenv import load_dotenv\n",
    "import sys\n",
    "import os\n",
    "\n",
    "load_dotenv(override=True)\n",
    "try:\n",
    "    del os.environ[\"DEV_PREFIX\"]\n",
    "    del os.environ[\"DEV_ENV\"]\n",
    "except:\n",
    "    pass\n",
    "\n",
    "sys.path.insert(0, os.path.join(os.curdir, \"../chat/src\"))\n",
    "\n",
    "from core.setup import opensearch_vector_store\n",
    "from core.secrets import load_secrets\n",
    "\n",
    "load_secrets()\n",
    "opensearch = opensearch_vector_store()"
   ]
  },
  {
   "cell_type": "markdown",
   "metadata": {},
   "source": [
    "## Aggregations"
   ]
  },
  {
   "cell_type": "code",
   "execution_count": null,
   "metadata": {},
   "outputs": [],
   "source": [
    "opensearch.aggregations_search(agg_field=\"visibility\")"
   ]
  },
  {
   "cell_type": "code",
   "execution_count": null,
   "metadata": {},
   "outputs": [],
   "source": [
    "opensearch.aggregations_search(agg_field=\"published\")"
   ]
  },
  {
   "cell_type": "markdown",
   "metadata": {},
   "source": [
    "## Similiarity Search"
   ]
  },
  {
   "cell_type": "code",
   "execution_count": null,
   "metadata": {},
   "outputs": [],
   "source": [
    "opensearch.similarity_search(query=\"Football stadiums\", k=80, size=3)"
   ]
  }
 ],
 "metadata": {
  "kernelspec": {
   "display_name": ".venv",
   "language": "python",
   "name": "python3"
  },
  "language_info": {
   "codemirror_mode": {
    "name": "ipython",
    "version": 3
   },
   "file_extension": ".py",
   "mimetype": "text/x-python",
   "name": "python",
   "nbconvert_exporter": "python",
   "pygments_lexer": "ipython3",
   "version": "3.12.2"
  }
 },
 "nbformat": 4,
 "nbformat_minor": 2
}
